{
 "cells": [
  {
   "cell_type": "markdown",
   "id": "fd734cf0",
   "metadata": {},
   "source": [
    "# Task2: Stock Market Prediction"
   ]
  },
  {
   "cell_type": "markdown",
   "id": "5fe9dbf9",
   "metadata": {},
   "source": [
    "# Importing Libraries"
   ]
  },
  {
   "cell_type": "code",
   "execution_count": null,
   "id": "cff36106",
   "metadata": {},
   "outputs": [],
   "source": [
    "import cv2"
   ]
  },
  {
   "cell_type": "markdown",
   "id": "a02ec4a0",
   "metadata": {},
   "source": [
    "# Read an image"
   ]
  },
  {
   "cell_type": "code",
   "execution_count": null,
   "id": "bd258684",
   "metadata": {},
   "outputs": [],
   "source": [
    "image = cv2.imread(\"image.jpg\")"
   ]
  },
  {
   "cell_type": "markdown",
   "id": "d16b7dd4",
   "metadata": {},
   "source": [
    "# Convert and Create a new image in grayscale\n"
   ]
  },
  {
   "cell_type": "code",
   "execution_count": null,
   "id": "5e87c7c3",
   "metadata": {},
   "outputs": [],
   "source": [
    "gray_image = cv2.cvtColor(image, cv2.COLOR_BGR2GRAY)"
   ]
  },
  {
   "cell_type": "markdown",
   "id": "64f2ecce",
   "metadata": {},
   "source": [
    "# Invert the grayscale image"
   ]
  },
  {
   "cell_type": "code",
   "execution_count": null,
   "id": "cd03b532",
   "metadata": {},
   "outputs": [],
   "source": [
    "inverted = 255-gray_image"
   ]
  },
  {
   "cell_type": "markdown",
   "id": "c661bd2e",
   "metadata": {},
   "source": [
    "# Blur the inverted image using GaussianBlur() function"
   ]
  },
  {
   "cell_type": "code",
   "execution_count": null,
   "id": "885662fa",
   "metadata": {},
   "outputs": [],
   "source": [
    "blur = cv2.GaussianBlur(inverted, (21, 21), 0)"
   ]
  },
  {
   "cell_type": "markdown",
   "id": "778048ba",
   "metadata": {},
   "source": [
    "# Again invert the blurred image"
   ]
  },
  {
   "cell_type": "code",
   "execution_count": null,
   "id": "0c1fa12b",
   "metadata": {},
   "outputs": [],
   "source": [
    "invertedblur = 255-blur"
   ]
  },
  {
   "cell_type": "markdown",
   "id": "7418fbd5",
   "metadata": {},
   "source": [
    "# Now convert the image into pencil sketch"
   ]
  },
  {
   "cell_type": "code",
   "execution_count": null,
   "id": "1fb46200",
   "metadata": {},
   "outputs": [],
   "source": [
    "sketch = cv2.divide(gray_image, invertedblur, scale=256.0)"
   ]
  },
  {
   "cell_type": "markdown",
   "id": "d38830a2",
   "metadata": {},
   "source": [
    "# Save the image in current working directory with the specific name"
   ]
  },
  {
   "cell_type": "code",
   "execution_count": null,
   "id": "468485d5",
   "metadata": {},
   "outputs": [],
   "source": [
    "cv2.imwrite(\"sketch.png\", sketch)"
   ]
  },
  {
   "cell_type": "markdown",
   "id": "1116892e",
   "metadata": {},
   "source": [
    "# Display the image"
   ]
  },
  {
   "cell_type": "code",
   "execution_count": null,
   "id": "5caeb5e0",
   "metadata": {},
   "outputs": [],
   "source": [
    "cv2.imshow(\"Sketch\", sketch)"
   ]
  },
  {
   "cell_type": "code",
   "execution_count": null,
   "id": "5e32a77b",
   "metadata": {},
   "outputs": [],
   "source": [
    "cv2.waitKey(0)"
   ]
  }
 ],
 "metadata": {
  "kernelspec": {
   "display_name": "Python 3 (ipykernel)",
   "language": "python",
   "name": "python3"
  },
  "language_info": {
   "codemirror_mode": {
    "name": "ipython",
    "version": 3
   },
   "file_extension": ".py",
   "mimetype": "text/x-python",
   "name": "python",
   "nbconvert_exporter": "python",
   "pygments_lexer": "ipython3",
   "version": "3.9.7"
  }
 },
 "nbformat": 4,
 "nbformat_minor": 5
}

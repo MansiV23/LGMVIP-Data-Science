{
 "cells": [
  {
   "cell_type": "markdown",
   "id": "c04283ec",
   "metadata": {},
   "source": [
    "# Importing Python Libraries"
   ]
  },
  {
   "cell_type": "code",
   "execution_count": 1,
   "id": "b7ce5053",
   "metadata": {},
   "outputs": [
    {
     "ename": "ModuleNotFoundError",
     "evalue": "No module named 'sklearn.cross_validation'",
     "output_type": "error",
     "traceback": [
      "\u001b[1;31m---------------------------------------------------------------------------\u001b[0m",
      "\u001b[1;31mModuleNotFoundError\u001b[0m                       Traceback (most recent call last)",
      "\u001b[1;32m~\\AppData\\Local\\Temp/ipykernel_9364/1117052237.py\u001b[0m in \u001b[0;36m<module>\u001b[1;34m\u001b[0m\n\u001b[0;32m      2\u001b[0m \u001b[1;33m\u001b[0m\u001b[0m\n\u001b[0;32m      3\u001b[0m \u001b[1;32mimport\u001b[0m \u001b[0mpandas\u001b[0m\u001b[1;33m\u001b[0m\u001b[1;33m\u001b[0m\u001b[0m\n\u001b[1;32m----> 4\u001b[1;33m \u001b[1;32mfrom\u001b[0m \u001b[0msklearn\u001b[0m\u001b[1;33m.\u001b[0m\u001b[0mcross_validation\u001b[0m \u001b[1;32mimport\u001b[0m \u001b[0mtrain_test_split\u001b[0m\u001b[1;33m\u001b[0m\u001b[1;33m\u001b[0m\u001b[0m\n\u001b[0m\u001b[0;32m      5\u001b[0m \u001b[1;32mimport\u001b[0m \u001b[0mnumpy\u001b[0m \u001b[1;32mas\u001b[0m \u001b[0mnp\u001b[0m\u001b[1;33m\u001b[0m\u001b[1;33m\u001b[0m\u001b[0m\n\u001b[0;32m      6\u001b[0m \u001b[1;32mimport\u001b[0m \u001b[0mtime\u001b[0m\u001b[1;33m\u001b[0m\u001b[1;33m\u001b[0m\u001b[0m\n",
      "\u001b[1;31mModuleNotFoundError\u001b[0m: No module named 'sklearn.cross_validation'"
     ]
    }
   ],
   "source": [
    "%matplotlib inline\n",
    "\n",
    "import pandas\n",
    "from sklearn.cross_validation import train_test_split\n",
    "import numpy as np\n",
    "import time\n",
    "from sklearn.externals import joblib\n",
    "import Recommenders as Recommenders\n",
    "import Evaluation as Evaluation"
   ]
  },
  {
   "cell_type": "markdown",
   "id": "b9376d05",
   "metadata": {},
   "source": [
    "# Loading music data"
   ]
  },
  {
   "cell_type": "code",
   "execution_count": null,
   "id": "e8e8322f",
   "metadata": {},
   "outputs": [],
   "source": [
    "#Read userid-songid-listen_count triplets\n",
    "#This step might take time to download data from external sources\n",
    "triplets_file = 'https://static.turi.com/datasets/millionsong/10000.txt'\n",
    "songs_metadata_file = 'https://static.turi.com/datasets/millionsong/song_data.csv'\n",
    "\n",
    "song_df_1 = pandas.read_table(triplets_file,header=None)\n",
    "song_df_1.columns = ['user_id', 'song_id', 'listen_count']\n",
    "\n",
    "#Read song  metadata\n",
    "song_df_2 =  pandas.read_csv(songs_metadata_file)\n",
    "\n",
    "#Merge the two dataframes above to create input dataframe for recommender systems\n",
    "song_df = pandas.merge(song_df_1, song_df_2.drop_duplicates(['song_id']), on=\"song_id\", how=\"left\") "
   ]
  },
  {
   "cell_type": "markdown",
   "id": "8235839e",
   "metadata": {},
   "source": [
    "# Exploring data"
   ]
  },
  {
   "cell_type": "code",
   "execution_count": null,
   "id": "85e50d76",
   "metadata": {},
   "outputs": [],
   "source": [
    "song_df.head()"
   ]
  },
  {
   "cell_type": "markdown",
   "id": "6c5b26f5",
   "metadata": {},
   "source": [
    "# Length of the dataset"
   ]
  },
  {
   "cell_type": "code",
   "execution_count": null,
   "id": "9a5d1199",
   "metadata": {},
   "outputs": [],
   "source": [
    "len(song_df)"
   ]
  },
  {
   "cell_type": "markdown",
   "id": "a9e03d5d",
   "metadata": {},
   "source": [
    "# Create a subset of the dataset"
   ]
  },
  {
   "cell_type": "code",
   "execution_count": null,
   "id": "5b551046",
   "metadata": {},
   "outputs": [],
   "source": [
    "song_df = song_df.head(10000)\n",
    "\n",
    "#Merge song title and artist_name columns to make a merged column\n",
    "song_df['song'] = song_df['title'].map(str) + \" - \" + song_df['artist_name']"
   ]
  },
  {
   "cell_type": "markdown",
   "id": "1ce0e812",
   "metadata": {},
   "source": [
    "# Showing the most popular songs in the dataset"
   ]
  },
  {
   "cell_type": "code",
   "execution_count": null,
   "id": "9959a96e",
   "metadata": {},
   "outputs": [],
   "source": [
    "song_grouped = song_df.groupby(['song']).agg({'listen_count': 'count'}).reset_index()\n",
    "grouped_sum = song_grouped['listen_count'].sum()\n",
    "song_grouped['percentage']  = song_grouped['listen_count'].div(grouped_sum)*100\n",
    "song_grouped.sort_values(['listen_count', 'song'], ascending = [0,1])"
   ]
  },
  {
   "cell_type": "markdown",
   "id": "ba6a6553",
   "metadata": {},
   "source": [
    "# Create a song recommender"
   ]
  },
  {
   "cell_type": "code",
   "execution_count": null,
   "id": "17c6dd1d",
   "metadata": {},
   "outputs": [],
   "source": [
    "train_data, test_data = train_test_split(song_df, test_size = 0.20, random_state=0)\n",
    "print(train_data.head(5))"
   ]
  },
  {
   "cell_type": "markdown",
   "id": "61984a70",
   "metadata": {},
   "source": [
    "# Create an instance of popularity based recommender class"
   ]
  },
  {
   "cell_type": "code",
   "execution_count": null,
   "id": "9ccad373",
   "metadata": {},
   "outputs": [],
   "source": [
    "pm = Recommenders.popularity_recommender_py()\n",
    "pm.create(train_data, 'user_id', 'song')"
   ]
  },
  {
   "cell_type": "markdown",
   "id": "1aecc325",
   "metadata": {},
   "source": [
    "# Use the popularity model to make some predictions"
   ]
  },
  {
   "cell_type": "code",
   "execution_count": null,
   "id": "a2b10fce",
   "metadata": {},
   "outputs": [],
   "source": [
    "user_id = users[5]\n",
    "pm.recommend(user_id)"
   ]
  },
  {
   "cell_type": "markdown",
   "id": "5e85412e",
   "metadata": {},
   "source": [
    "# Create an instance of item similarity based recommender class"
   ]
  },
  {
   "cell_type": "code",
   "execution_count": null,
   "id": "a213fab3",
   "metadata": {},
   "outputs": [],
   "source": [
    "is_model = Recommenders.item_similarity_recommender_py()\n",
    "is_model.create(train_data, 'user_id', 'song')"
   ]
  },
  {
   "cell_type": "markdown",
   "id": "b308c377",
   "metadata": {},
   "source": [
    "# Use the personalized model to make some song recommendations"
   ]
  },
  {
   "cell_type": "code",
   "execution_count": null,
   "id": "b95f08f7",
   "metadata": {},
   "outputs": [],
   "source": [
    "#Print the songs for the user in training data\n",
    "user_id = users[5]\n",
    "user_items = is_model.get_user_items(user_id)\n",
    "#\n",
    "print(\"------------------------------------------------------------------------------------\")\n",
    "print(\"Training data songs for the user userid: %s:\" % user_id)\n",
    "print(\"------------------------------------------------------------------------------------\")\n",
    "\n",
    "for user_item in user_items:\n",
    "    print(user_item)\n",
    "\n",
    "print(\"----------------------------------------------------------------------\")\n",
    "print(\"Recommendation process going on:\")\n",
    "print(\"----------------------------------------------------------------------\")\n",
    "\n",
    "#Recommend songs for the user using personalized model\n",
    "is_model.recommend(user_id)"
   ]
  },
  {
   "cell_type": "markdown",
   "id": "45b92979",
   "metadata": {},
   "source": [
    "# Use the above precision recall calculator class to calculate the evaluation measures"
   ]
  },
  {
   "cell_type": "code",
   "execution_count": null,
   "id": "0898915d",
   "metadata": {},
   "outputs": [],
   "source": [
    "start = time.time()\n",
    "\n",
    "#Define what percentage of users to use for precision recall calculation\n",
    "user_sample = 0.05\n",
    "\n",
    "#Instantiate the precision_recall_calculator class\n",
    "pr = Evaluation.precision_recall_calculator(test_data, train_data, pm, is_model)\n",
    "\n",
    "#Call method to calculate precision and recall values\n",
    "(pm_avg_precision_list, pm_avg_recall_list, ism_avg_precision_list, ism_avg_recall_list) = pr.calculate_measures(user_sample)\n",
    "\n",
    "end = time.time()\n",
    "print(end - start)"
   ]
  },
  {
   "cell_type": "markdown",
   "id": "68b9f6d8",
   "metadata": {},
   "source": [
    "# Code to plot precision recall curve"
   ]
  },
  {
   "cell_type": "code",
   "execution_count": null,
   "id": "f532642f",
   "metadata": {},
   "outputs": [],
   "source": [
    "import pylab as pl\n",
    "\n",
    "#Method to generate precision and recall curve\n",
    "def plot_precision_recall(m1_precision_list, m1_recall_list, m1_label, m2_precision_list, m2_recall_list, m2_label):\n",
    "    pl.clf()    \n",
    "    pl.plot(m1_recall_list, m1_precision_list, label=m1_label)\n",
    "    pl.plot(m2_recall_list, m2_precision_list, label=m2_label)\n",
    "    pl.xlabel('Recall')\n",
    "    pl.ylabel('Precision')\n",
    "    pl.ylim([0.0, 0.20])\n",
    "    pl.xlim([0.0, 0.20])\n",
    "    pl.title('Precision-Recall curve')\n",
    "    #pl.legend(loc=\"upper right\")\n",
    "    pl.legend(loc=9, bbox_to_anchor=(0.5, -0.2))\n",
    "    pl.show()"
   ]
  },
  {
   "cell_type": "code",
   "execution_count": null,
   "id": "c8861874",
   "metadata": {},
   "outputs": [],
   "source": [
    "print(\"Plotting precision recall curves.\")\n",
    "\n",
    "plot_precision_recall(pm_avg_precision_list, pm_avg_recall_list, \"popularity_model\",\n",
    "                      ism_avg_precision_list, ism_avg_recall_list, \"item_similarity_model\")"
   ]
  },
  {
   "cell_type": "markdown",
   "id": "032c12ca",
   "metadata": {},
   "source": [
    "# Generate Precision Recall curve using pickled results on a larger data subset(Python 3)"
   ]
  },
  {
   "cell_type": "code",
   "execution_count": null,
   "id": "3402c88c",
   "metadata": {},
   "outputs": [],
   "source": [
    "print(\"Plotting precision recall curves for a larger subset of data (100,000 rows) (user sample = 0.005).\")\n",
    "\n",
    "#Read the persisted files \n",
    "pm_avg_precision_list = joblib.load('pm_avg_precision_list_3.pkl')\n",
    "pm_avg_recall_list = joblib.load('pm_avg_recall_list_3.pkl')\n",
    "ism_avg_precision_list = joblib.load('ism_avg_precision_list_3.pkl')\n",
    "ism_avg_recall_list = joblib.load('ism_avg_recall_list_3.pkl')\n",
    "\n",
    "print(\"Plotting precision recall curves.\")\n",
    "plot_precision_recall(pm_avg_precision_list, pm_avg_recall_list, \"popularity_model\",\n",
    "                      ism_avg_precision_list, ism_avg_recall_list, \"item_similarity_model\")"
   ]
  },
  {
   "cell_type": "markdown",
   "id": "8dc77238",
   "metadata": {},
   "source": [
    "# Matrix Factorization based Recommender System"
   ]
  },
  {
   "cell_type": "markdown",
   "id": "373237a4",
   "metadata": {},
   "source": [
    "# Import the required libraries"
   ]
  },
  {
   "cell_type": "code",
   "execution_count": null,
   "id": "8a2910e0",
   "metadata": {},
   "outputs": [],
   "source": [
    "import math as mt\n",
    "import csv\n",
    "from sparsesvd import sparsesvd #used for matrix factorization\n",
    "import numpy as np\n",
    "from scipy.sparse import csc_matrix #used for sparse matrix\n",
    "from scipy.sparse.linalg import * #used for matrix multiplication"
   ]
  },
  {
   "cell_type": "markdown",
   "id": "3f83c4f8",
   "metadata": {},
   "source": [
    "# Methods to compute SVD and recommendations"
   ]
  },
  {
   "cell_type": "code",
   "execution_count": null,
   "id": "fbd7b67b",
   "metadata": {},
   "outputs": [],
   "source": [
    "#constants defining the dimensions of our User Rating Matrix (URM)\n",
    "MAX_PID = 4\n",
    "MAX_UID = 5\n",
    "\n",
    "#Compute SVD of the user ratings matrix\n",
    "def computeSVD(urm, K):\n",
    "    U, s, Vt = sparsesvd(urm, K)\n",
    "\n",
    "    dim = (len(s), len(s))\n",
    "    S = np.zeros(dim, dtype=np.float32)\n",
    "    for i in range(0, len(s)):\n",
    "        S[i,i] = mt.sqrt(s[i])\n",
    "\n",
    "    U = csc_matrix(np.transpose(U), dtype=np.float32)\n",
    "    S = csc_matrix(S, dtype=np.float32)\n",
    "    Vt = csc_matrix(Vt, dtype=np.float32)\n",
    "    \n",
    "    return U, S, Vt\n",
    "\n",
    "#Compute estimated rating for the test user\n",
    "def computeEstimatedRatings(urm, U, S, Vt, uTest, K, test):\n",
    "    rightTerm = S*Vt \n",
    "\n",
    "    estimatedRatings = np.zeros(shape=(MAX_UID, MAX_PID), dtype=np.float16)\n",
    "    for userTest in uTest:\n",
    "        prod = U[userTest, :]*rightTerm\n",
    "        #we convert the vector to dense format in order to get the indices \n",
    "        #of the movies with the best estimated ratings \n",
    "        estimatedRatings[userTest, :] = prod.todense()\n",
    "        recom = (-estimatedRatings[userTest, :]).argsort()[:250]\n",
    "    return recom"
   ]
  },
  {
   "cell_type": "markdown",
   "id": "718f1ae8",
   "metadata": {},
   "source": [
    "# Use SVD to make predictions for a test user id"
   ]
  },
  {
   "cell_type": "code",
   "execution_count": null,
   "id": "7099f8b9",
   "metadata": {},
   "outputs": [],
   "source": [
    "#Used in SVD calculation (number of latent factors)\n",
    "K=2\n",
    "\n",
    "#Initialize a sample user rating matrix\n",
    "urm = np.array([[3, 1, 2, 3],[4, 3, 4, 3],[3, 2, 1, 5], [1, 6, 5, 2], [5, 0,0 , 0]])\n",
    "urm = csc_matrix(urm, dtype=np.float32)\n",
    "\n",
    "#Compute SVD of the input user ratings matrix\n",
    "U, S, Vt = computeSVD(urm, K)\n",
    "\n",
    "#Test user set as user_id 4 with ratings [0, 0, 5, 0]\n",
    "uTest = [4]\n",
    "print(\"User id for whom recommendations are needed: %d\" % uTest[0])\n",
    "\n",
    "#Get estimated rating for test user\n",
    "print(\"Predictied ratings:\")\n",
    "uTest_recommended_items = computeEstimatedRatings(urm, U, S, Vt, uTest, K, True)\n",
    "print(uTest_recommended_items)"
   ]
  },
  {
   "cell_type": "markdown",
   "id": "2ed3f80c",
   "metadata": {},
   "source": [
    "# Understanding Intuition behind SVD"
   ]
  },
  {
   "cell_type": "code",
   "execution_count": null,
   "id": "0c215871",
   "metadata": {},
   "outputs": [],
   "source": [
    "%matplotlib inline\n",
    "from pylab import *\n",
    "\n",
    "#Plot all the users\n",
    "print(\"Matrix Dimensions for U\")\n",
    "print(U.shape)\n",
    "\n",
    "for i in range(0, U.shape[0]):\n",
    "    plot(U[i,0], U[i,1], marker = \"*\", label=\"user\"+str(i))\n",
    "\n",
    "for j in range(0, Vt.T.shape[0]):\n",
    "    plot(Vt.T[j,0], Vt.T[j,1], marker = 'd', label=\"item\"+str(j))    \n",
    "    \n",
    "legend(loc=\"upper right\")\n",
    "title('User vectors in the Latent semantic space')\n",
    "ylim([-0.7, 0.7])\n",
    "xlim([-0.7, 0])\n",
    "show()"
   ]
  }
 ],
 "metadata": {
  "kernelspec": {
   "display_name": "Python 3 (ipykernel)",
   "language": "python",
   "name": "python3"
  },
  "language_info": {
   "codemirror_mode": {
    "name": "ipython",
    "version": 3
   },
   "file_extension": ".py",
   "mimetype": "text/x-python",
   "name": "python",
   "nbconvert_exporter": "python",
   "pygments_lexer": "ipython3",
   "version": "3.9.7"
  }
 },
 "nbformat": 4,
 "nbformat_minor": 5
}
